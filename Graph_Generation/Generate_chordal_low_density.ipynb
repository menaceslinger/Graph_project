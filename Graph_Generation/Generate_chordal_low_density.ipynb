{
 "cells": [
  {
   "cell_type": "code",
   "execution_count": 1,
   "metadata": {},
   "outputs": [],
   "source": [
    "#!pip install networkx==2.5"
   ]
  },
  {
   "cell_type": "code",
   "execution_count": 2,
   "metadata": {},
   "outputs": [],
   "source": [
    "#!pip install tqdm"
   ]
  },
  {
   "cell_type": "code",
   "execution_count": 3,
   "metadata": {},
   "outputs": [],
   "source": [
    "from tqdm import tqdm"
   ]
  },
  {
   "cell_type": "code",
   "execution_count": 4,
   "metadata": {},
   "outputs": [],
   "source": [
    "import sage.all\n",
    "import numpy as np"
   ]
  },
  {
   "cell_type": "code",
   "execution_count": 5,
   "metadata": {},
   "outputs": [],
   "source": [
    "import networkx as nx"
   ]
  },
  {
   "cell_type": "code",
   "execution_count": 6,
   "metadata": {},
   "outputs": [],
   "source": [
    "from sage.graphs.generators.random import RandomChordalGraph"
   ]
  },
  {
   "cell_type": "code",
   "execution_count": 7,
   "metadata": {},
   "outputs": [],
   "source": [
    "#Generates Chordal Graphs and converts them into networkx object\n",
    "np.set_printoptions(suppress=True)\n",
    "def generate_chordal(start, end, step):\n",
    "    graphs = []\n",
    "    total=(np.floor(end/step).astype(int))\n",
    "    properties = []\n",
    "    avg_degree=0\n",
    "    avg_density=0\n",
    "    num_of_nodes=start\n",
    "    for i in tqdm(range(total)):\n",
    "        T = RandomChordalGraph(num_of_nodes, algorithm=\"pruned\",\n",
    "                               f=0.32,s=0.001 \n",
    "                              )\n",
    "        ng = T.networkx_graph()\n",
    "        if (nx.is_connected(ng)):\n",
    "            #nx.draw(ng)\n",
    "            graphs.append(ng)\n",
    "            val = np.array([num_of_nodes, ng.number_of_edges(), average_degree(ng), nx.density(ng)])\n",
    "            properties.append(val)\n",
    "            avg_degree+=average_degree(ng)\n",
    "            avg_density+=nx.density(ng)\n",
    "            num_of_nodes+=step\n",
    "    return graphs, properties,avg_degree/len(graphs),avg_density/len(graphs)"
   ]
  },
  {
   "cell_type": "code",
   "execution_count": 8,
   "metadata": {},
   "outputs": [],
   "source": [
    "def average_degree(G):\n",
    "    sum_of_degrees=sum(dict(G.degree).values())\n",
    "    num_of_nodes=G.number_of_nodes()\n",
    "    avg_degree=sum_of_degrees/num_of_nodes\n",
    "    return avg_degree"
   ]
  },
  {
   "cell_type": "code",
   "execution_count": 10,
   "metadata": {},
   "outputs": [
    {
     "name": "stderr",
     "output_type": "stream",
     "text": [
      "100%|██████████| 400/400 [12:09<00:00,  1.82s/it]"
     ]
    },
    {
     "name": "stdout",
     "output_type": "stream",
     "text": [
      "31.691983569688343\n",
      "0.06044009689298871\n"
     ]
    },
    {
     "name": "stderr",
     "output_type": "stream",
     "text": [
      "\n"
     ]
    }
   ],
   "source": [
    "graphs, properties,avg_degree,avg_density = generate_chordal(5, 2000, 5) #start, end, step\n",
    "print(avg_degree)\n",
    "print(avg_density)"
   ]
  },
  {
   "cell_type": "code",
   "execution_count": 11,
   "metadata": {},
   "outputs": [
    {
     "data": {
      "text/plain": [
       "352"
      ]
     },
     "execution_count": 11,
     "metadata": {},
     "output_type": "execute_result"
    }
   ],
   "source": [
    "len(graphs)"
   ]
  },
  {
   "cell_type": "code",
   "execution_count": 19,
   "metadata": {},
   "outputs": [
    {
     "name": "stdout",
     "output_type": "stream",
     "text": [
      "[ 1775.         35977.            40.53746479     0.02285088]\n"
     ]
    },
    {
     "data": {
      "image/png": "[encoded data removed]",
      "text/plain": [
       "<Figure size 432x288 with 1 Axes>"
      ]
     },
     "metadata": {},
     "output_type": "display_data"
    }
   ],
   "source": [
    "nx.draw(graphs[3])\n",
    "print(properties[3])"
   ]
  },
  {
   "cell_type": "code",
   "execution_count": 13,
   "metadata": {},
   "outputs": [],
   "source": [
    "import pickle"
   ]
  },
  {
   "cell_type": "code",
   "execution_count": 14,
   "metadata": {},
   "outputs": [],
   "source": [
    "with open(\"chordal_graphs_first_352(step_5)_low_density.pkl\", \"wb\") as fp:\n",
    "    pickle.dump(graphs, fp)\n",
    "with open(\"chordal_graphs_properties_352(step_5)_low_density.pkl\", \"wb\") as fp:\n",
    "    pickle.dump(properties, fp)"
   ]
  },
  {
   "cell_type": "code",
   "execution_count": 16,
   "metadata": {},
   "outputs": [
    {
     "name": "stdout",
     "output_type": "stream",
     "text": [
      "Graph named 'Random Chordal Graph' with 1760 nodes and 40278 edges\n"
     ]
    }
   ],
   "source": [
    "print(graphs[351])"
   ]
  },
  {
   "cell_type": "code",
   "execution_count": 18,
   "metadata": {},
   "outputs": [
    {
     "name": "stderr",
     "output_type": "stream",
     "text": [
      "100%|██████████| 200/200 [29:17<00:00,  8.79s/it]\n"
     ]
    },
    {
     "name": "stdout",
     "output_type": "stream",
     "text": [
      "47.542716040128354\n",
      "0.022029466412945124\n"
     ]
    }
   ],
   "source": [
    "graphs, properties,avg_degree,avg_density = generate_chordal(1760, 1000, 5) #start, end, step\n",
    "print(avg_degree)\n",
    "print(avg_density)"
   ]
  },
  {
   "cell_type": "code",
   "execution_count": 20,
   "metadata": {},
   "outputs": [],
   "source": [
    "with open(\"chordal_graphs_last_200(step_5)_low_density.pkl\", \"wb\") as fp:\n",
    "    pickle.dump(graphs, fp)\n",
    "with open(\"chordal_graphs_properties_last_200(step_5)_low_density.pkl\", \"wb\") as fp:\n",
    "    pickle.dump(properties, fp)"
   ]
  },
  {
   "cell_type": "code",
   "execution_count": 13,
   "metadata": {},
   "outputs": [
    {
     "name": "stdout",
     "output_type": "stream",
     "text": [
      "Collecting netgraph\n",
      "  Using cached netgraph-4.2.5.tar.gz (77 kB)\n",
      "  Preparing metadata (setup.py) ... \u001b[?25ldone\n",
      "\u001b[?25hRequirement already satisfied: numpy in /sbb/scratch/saffat/miniconda3/envs/sage/lib/python3.10/site-packages (from netgraph) (1.22.3)\n",
      "Requirement already satisfied: matplotlib in /sbb/scratch/saffat/miniconda3/envs/sage/lib/python3.10/site-packages (from netgraph) (3.5.1)\n",
      "Requirement already satisfied: scipy in /sbb/scratch/saffat/miniconda3/envs/sage/lib/python3.10/site-packages (from netgraph) (1.8.0)\n",
      "Collecting rectangle-packer\n",
      "  Downloading rectangle_packer-2.0.1-cp310-cp310-manylinux_2_5_x86_64.manylinux1_x86_64.manylinux_2_17_x86_64.manylinux2014_x86_64.whl (300 kB)\n",
      "\u001b[2K     \u001b[90m━━━━━━━━━━━━━━━━━━━━━━━━━━━━━━━━━━━━━━━\u001b[0m \u001b[32m300.8/300.8 KB\u001b[0m \u001b[31m2.6 MB/s\u001b[0m eta \u001b[36m0:00:00\u001b[0m00:01\u001b[0m00:01\u001b[0m\n",
      "\u001b[?25hCollecting grandalf\n",
      "  Using cached grandalf-0.7-py3-none-any.whl (41 kB)\n",
      "Requirement already satisfied: pyparsing in /sbb/scratch/saffat/miniconda3/envs/sage/lib/python3.10/site-packages (from grandalf->netgraph) (3.0.7)\n",
      "Requirement already satisfied: cycler>=0.10 in /sbb/scratch/saffat/miniconda3/envs/sage/lib/python3.10/site-packages (from matplotlib->netgraph) (0.11.0)\n",
      "Requirement already satisfied: pillow>=6.2.0 in /sbb/scratch/saffat/miniconda3/envs/sage/lib/python3.10/site-packages (from matplotlib->netgraph) (8.4.0)\n",
      "Requirement already satisfied: fonttools>=4.22.0 in /sbb/scratch/saffat/miniconda3/envs/sage/lib/python3.10/site-packages (from matplotlib->netgraph) (4.31.2)\n",
      "Requirement already satisfied: kiwisolver>=1.0.1 in /sbb/scratch/saffat/miniconda3/envs/sage/lib/python3.10/site-packages (from matplotlib->netgraph) (1.4.2)\n",
      "Requirement already satisfied: python-dateutil>=2.7 in /sbb/scratch/saffat/miniconda3/envs/sage/lib/python3.10/site-packages (from matplotlib->netgraph) (2.8.2)\n",
      "Requirement already satisfied: packaging>=20.0 in /sbb/scratch/saffat/miniconda3/envs/sage/lib/python3.10/site-packages (from matplotlib->netgraph) (21.3)\n",
      "Requirement already satisfied: six>=1.5 in /sbb/scratch/saffat/miniconda3/envs/sage/lib/python3.10/site-packages (from python-dateutil>=2.7->matplotlib->netgraph) (1.16.0)\n",
      "Building wheels for collected packages: netgraph\n",
      "  Building wheel for netgraph (setup.py) ... \u001b[?25ldone\n",
      "\u001b[?25h  Created wheel for netgraph: filename=netgraph-4.2.5-py3-none-any.whl size=84059 sha256=d6aa8ebe6d0450646599c730b696b80a370c25d0ec57265f808ca34dd232cc39\n",
      "  Stored in directory: /home/saffat/.cache/pip/wheels/cb/37/33/21e3611307b169ce9e9432d5ce5635192724c5913f6db84be3\n",
      "Successfully built netgraph\n",
      "Installing collected packages: rectangle-packer, grandalf, netgraph\n",
      "Successfully installed grandalf-0.7 netgraph-4.2.5 rectangle-packer-2.0.1\n"
     ]
    }
   ],
   "source": [
    "#!pip install netgraph"
   ]
  },
  {
   "cell_type": "code",
   "execution_count": null,
   "metadata": {},
   "outputs": [],
   "source": []
  }
 ],
 "metadata": {
  "kernelspec": {
   "display_name": "Python 3 (ipykernel)",
   "language": "python",
   "name": "python3"
  },
  "language_info": {
   "codemirror_mode": {
    "name": "ipython",
    "version": 3
   },
   "file_extension": ".py",
   "mimetype": "text/x-python",
   "name": "python",
   "nbconvert_exporter": "python",
   "pygments_lexer": "ipython3",
   "version": "3.8.12"
  }
 },
 "nbformat": 4,
 "nbformat_minor": 4
}
