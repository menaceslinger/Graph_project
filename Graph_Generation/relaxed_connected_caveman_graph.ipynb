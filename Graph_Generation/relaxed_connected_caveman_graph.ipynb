{
 "cells": [
  {
   "cell_type": "code",
   "execution_count": 4,
   "id": "59e01bd6",
   "metadata": {},
   "outputs": [],
   "source": [
    "\n",
    "import numpy as np\n",
    "import networkx as nx\n",
    "from networkx.generators.community import connected_caveman_graph\n",
    "from IPython.display import clear_output, display"
   ]
  },
  {
   "cell_type": "code",
   "execution_count": 11,
   "id": "186821e4",
   "metadata": {},
   "outputs": [],
   "source": [
    "#Generates Chordal Graphs and converts them into networkx object\n",
    "\n",
    "def generate_graph():\n",
    "    graphs = []\n",
    "    #total=(np.floor(end/step).astype(int))\n",
    "    properties = []\n",
    "    avg_degree=0\n",
    "    avg_density=0\n",
    "    #num_of_nodes=start\n",
    "    for num_of_cliques in range(1,101,1):\n",
    "        clear_output(wait=True)\n",
    "        print(num_of_cliques)\n",
    "        #for size_of_clique in range(5,101,5):\n",
    "        ng = nx.relaxed_caveman_graph(num_of_cliques, 5,0.2, seed=42)\n",
    "        if (nx.is_connected(ng)):\n",
    "            #nx.draw(ng)\n",
    "            graphs.append(ng)\n",
    "            val = np.array([(ng.number_of_nodes()), ng.number_of_edges(), average_degree(ng), nx.density(ng)])\n",
    "            properties.append(val)\n",
    "            avg_degree+=average_degree(ng)\n",
    "            avg_density+=nx.density(ng)\n",
    "                #num_of_nodes+=step\n",
    "    return graphs, properties,avg_degree/len(graphs),avg_density/len(graphs)"
   ]
  },
  {
   "cell_type": "code",
   "execution_count": 12,
   "id": "4ec6b996",
   "metadata": {},
   "outputs": [],
   "source": [
    "def average_degree(G):\n",
    "    sum_of_degrees=sum(dict(G.degree).values())\n",
    "    num_of_nodes=G.number_of_nodes()\n",
    "    avg_degree=sum_of_degrees/num_of_nodes\n",
    "    return avg_degree"
   ]
  },
  {
   "cell_type": "code",
   "execution_count": 13,
   "id": "21db98cd",
   "metadata": {},
   "outputs": [
    {
     "name": "stdout",
     "output_type": "stream",
     "text": [
      "100\n",
      "4.0\n",
      "0.07809383127447107\n"
     ]
    }
   ],
   "source": [
    "graphs, properties,avg_degree,avg_density = generate_graph() #start, end, step\n",
    "print(avg_degree)\n",
    "print(avg_density)"
   ]
  },
  {
   "cell_type": "code",
   "execution_count": 14,
   "id": "cff0aad0",
   "metadata": {},
   "outputs": [
    {
     "data": {
      "text/plain": [
       "49"
      ]
     },
     "execution_count": 14,
     "metadata": {},
     "output_type": "execute_result"
    }
   ],
   "source": [
    "len(graphs)"
   ]
  },
  {
   "cell_type": "code",
   "execution_count": 21,
   "id": "4ac38d87",
   "metadata": {},
   "outputs": [
    {
     "data": {
      "image/png": "[encoded data removed]",
      "text/plain": [
       "<Figure size 432x288 with 1 Axes>"
      ]
     },
     "metadata": {},
     "output_type": "display_data"
    }
   ],
   "source": [
    "nx.draw(graphs[2])"
   ]
  },
  {
   "cell_type": "code",
   "execution_count": 56,
   "id": "4d0224be-90b0-4166-bf7e-2334b31e3d62",
   "metadata": {},
   "outputs": [
    {
     "name": "stdout",
     "output_type": "stream",
     "text": [
      "[10. 45.  9.  1.]\n",
      "[20.         90.          9.          0.47368421]\n",
      "[ 30.         135.           9.           0.31034483]\n",
      "[ 40.         180.           9.           0.23076923]\n",
      "[ 50.         225.           9.           0.18367347]\n",
      "[ 60.         270.           9.           0.15254237]\n",
      "[ 70.         315.           9.           0.13043478]\n",
      "[ 80.         360.           9.           0.11392405]\n",
      "[ 90.        405.          9.          0.1011236]\n",
      "[100.         450.           9.           0.09090909]\n",
      "[110.         495.           9.           0.08256881]\n",
      "[120.         540.           9.           0.07563025]\n",
      "[130.         585.           9.           0.06976744]\n",
      "[140.        630.          9.          0.0647482]\n",
      "[150.         675.           9.           0.06040268]\n",
      "[160.         720.           9.           0.05660377]\n",
      "[170.         765.           9.           0.05325444]\n",
      "[180.         810.           9.           0.05027933]\n",
      "[190.         855.           9.           0.04761905]\n",
      "[200.         900.           9.           0.04522613]\n",
      "[210.        945.          9.          0.0430622]\n",
      "[220.         990.           9.           0.04109589]\n",
      "[ 230.         1035.            9.            0.03930131]\n",
      "[ 240.        1080.           9.           0.0376569]\n",
      "[ 250.         1125.            9.            0.03614458]\n",
      "[ 260.         1170.            9.            0.03474903]\n",
      "[ 270.         1215.            9.            0.03345725]\n",
      "[ 280.         1260.            9.            0.03225806]\n",
      "[ 290.         1305.            9.            0.03114187]\n",
      "[ 300.         1350.            9.            0.03010033]\n",
      "[ 310.         1395.            9.            0.02912621]\n",
      "[ 320.         1440.            9.            0.02821317]\n",
      "[ 330.         1485.            9.            0.02735562]\n",
      "[ 340.         1530.            9.            0.02654867]\n",
      "[ 350.         1575.            9.            0.02578797]\n",
      "[ 360.         1620.            9.            0.02506964]\n",
      "[ 370.         1665.            9.            0.02439024]\n",
      "[ 380.        1710.           9.           0.0237467]\n",
      "[ 390.         1755.            9.            0.02313625]\n",
      "[ 400.         1800.            9.            0.02255639]\n",
      "[ 410.         1845.            9.            0.02200489]\n",
      "[ 420.         1890.            9.            0.02147971]\n",
      "[ 430.         1935.            9.            0.02097902]\n",
      "[ 440.         1980.            9.            0.02050114]\n",
      "[ 450.         2025.            9.            0.02004454]\n",
      "[ 460.         2070.            9.            0.01960784]\n",
      "[ 470.         2115.            9.            0.01918977]\n",
      "[ 480.         2160.            9.            0.01878914]\n",
      "[ 490.         2205.            9.            0.01840491]\n",
      "[ 500.         2250.            9.            0.01803607]\n",
      "[ 510.         2295.            9.            0.01768173]\n",
      "[ 520.         2340.            9.            0.01734104]\n",
      "[ 530.         2385.            9.            0.01701323]\n",
      "[ 540.         2430.            9.            0.01669759]\n",
      "[ 550.         2475.            9.            0.01639344]\n",
      "[ 560.         2520.            9.            0.01610018]\n",
      "[ 570.         2565.            9.            0.01581722]\n",
      "[ 580.         2610.            9.            0.01554404]\n",
      "[ 590.         2655.            9.            0.01528014]\n",
      "[ 600.         2700.            9.            0.01502504]\n",
      "[ 610.         2745.            9.            0.01477833]\n",
      "[ 620.         2790.            9.            0.01453958]\n",
      "[ 630.         2835.            9.            0.01430843]\n",
      "[ 640.         2880.            9.            0.01408451]\n",
      "[ 650.         2925.            9.            0.01386749]\n",
      "[ 660.         2970.            9.            0.01365706]\n",
      "[ 670.         3015.            9.            0.01345291]\n",
      "[ 680.         3060.            9.            0.01325479]\n",
      "[ 690.         3105.            9.            0.01306241]\n",
      "[ 700.         3150.            9.            0.01287554]\n",
      "[ 710.         3195.            9.            0.01269394]\n",
      "[ 720.         3240.            9.            0.01251739]\n",
      "[ 730.         3285.            9.            0.01234568]\n",
      "[ 740.         3330.            9.            0.01217862]\n",
      "[ 750.         3375.            9.            0.01201602]\n",
      "[ 760.         3420.            9.            0.01185771]\n",
      "[ 770.         3465.            9.            0.01170351]\n",
      "[ 780.         3510.            9.            0.01155327]\n",
      "[ 790.         3555.            9.            0.01140684]\n",
      "[ 800.         3600.            9.            0.01126408]\n",
      "[ 810.         3645.            9.            0.01112485]\n",
      "[ 820.         3690.            9.            0.01098901]\n",
      "[ 830.         3735.            9.            0.01085645]\n",
      "[ 840.         3780.            9.            0.01072706]\n",
      "[ 850.         3825.            9.            0.01060071]\n",
      "[ 860.        3870.           9.           0.0104773]\n",
      "[ 870.         3915.            9.            0.01035673]\n",
      "[ 880.         3960.            9.            0.01023891]\n",
      "[ 890.         4005.            9.            0.01012373]\n",
      "[ 900.         4050.            9.            0.01001112]\n",
      "[ 910.         4095.            9.            0.00990099]\n",
      "[ 920.         4140.            9.            0.00979325]\n",
      "[ 930.         4185.            9.            0.00968784]\n",
      "[ 940.         4230.            9.            0.00958466]\n",
      "[ 950.         4275.            9.            0.00948367]\n",
      "[ 960.         4320.            9.            0.00938478]\n",
      "[ 970.         4365.            9.            0.00928793]\n",
      "[ 980.         4410.            9.            0.00919305]\n",
      "[ 990.        4455.           9.           0.0091001]\n",
      "[1000.         4500.            9.            0.00900901]\n"
     ]
    }
   ],
   "source": [
    "import numpy as np\n",
    "for i in properties:\n",
    "    np.set_printoptions(suppress=True)\n",
    "    print(i)"
   ]
  },
  {
   "cell_type": "code",
   "execution_count": 57,
   "id": "6914f9c0-8d85-4f20-bb9f-bc8bb2de4177",
   "metadata": {},
   "outputs": [],
   "source": [
    "import pickle\n",
    "with open(\"full_data/NEW_relaxed_connected_cavemen_graphs.pkl\", \"wb\") as fp:\n",
    "    pickle.dump(graphs, fp)\n",
    "with open(\"full_data/NEW_relaxed_connected_cavemen_properties.pkl\", \"wb\") as fp:\n",
    "    pickle.dump(properties, fp)"
   ]
  },
  {
   "cell_type": "markdown",
   "id": "2515746b-5019-444b-997a-a24fa9913ee7",
   "metadata": {},
   "source": [
    "# sliced dump"
   ]
  },
  {
   "cell_type": "code",
   "execution_count": 59,
   "id": "8fbef800",
   "metadata": {},
   "outputs": [],
   "source": [
    "import pickle\n",
    "with open(\"sliced_data/NEW_relaxed_connected_cavemen_graphs_50.pkl\", \"wb\") as fp:\n",
    "    pickle.dump(graphs[:50], fp)\n",
    "with open(\"sliced_data/NEW_relaxed_connected_cavemen_properties_50.pkl\", \"wb\") as fp:\n",
    "    pickle.dump(properties[:50], fp)"
   ]
  },
  {
   "cell_type": "code",
   "execution_count": null,
   "id": "37564e51",
   "metadata": {},
   "outputs": [],
   "source": []
  }
 ],
 "metadata": {
  "kernelspec": {
   "display_name": "Python 3 (ipykernel)",
   "language": "python",
   "name": "python3"
  },
  "language_info": {
   "codemirror_mode": {
    "name": "ipython",
    "version": 3
   },
   "file_extension": ".py",
   "mimetype": "text/x-python",
   "name": "python",
   "nbconvert_exporter": "python",
   "pygments_lexer": "ipython3",
   "version": "3.9.5"
  }
 },
 "nbformat": 4,
 "nbformat_minor": 5
}
