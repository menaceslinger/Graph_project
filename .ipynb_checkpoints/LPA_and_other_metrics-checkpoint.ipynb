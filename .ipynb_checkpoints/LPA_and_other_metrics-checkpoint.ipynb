{
 "cells": [
  {
   "cell_type": "code",
   "execution_count": 1,
   "id": "51f1063c-64e4-4c0b-82d5-aa511babd41d",
   "metadata": {},
   "outputs": [
    {
     "ename": "TabError",
     "evalue": "inconsistent use of tabs and spaces in indentation (evaluate.py, line 234)",
     "output_type": "error",
     "traceback": [
      "Traceback \u001b[0;36m(most recent call last)\u001b[0m:\n",
      "  File \u001b[1;32m\"/global/scratch/saffat/miniconda3/envs/sage/lib/python3.10/site-packages/IPython/core/interactiveshell.py\"\u001b[0m, line \u001b[1;32m3524\u001b[0m, in \u001b[1;35mrun_code\u001b[0m\n    exec(code_obj, self.user_global_ns, self.user_ns)\n",
      "\u001b[0;36m  File \u001b[0;32m\"/tmp/ipykernel_23883/3524527573.py\"\u001b[0;36m, line \u001b[0;32m8\u001b[0;36m, in \u001b[0;35m<cell line: 8>\u001b[0;36m\u001b[0m\n\u001b[0;31m    import evaluate as ev\u001b[0m\n",
      "\u001b[0;36m  File \u001b[0;32m\"/sbb/scratch/saffat/github/Graph_project/evaluate.py\"\u001b[0;36m, line \u001b[0;32m234\u001b[0m\n\u001b[0;31m    com_id=0\u001b[0m\n\u001b[0m    ^\u001b[0m\n\u001b[0;31mTabError\u001b[0m\u001b[0;31m:\u001b[0m inconsistent use of tabs and spaces in indentation\n"
     ]
    }
   ],
   "source": [
    "%load_ext autoreload\n",
    "%autoreload 2\n",
    "import matplotlib.pyplot as plt\n",
    "import networkx as nx\n",
    "from networkx.algorithms import community\n",
    "# pip install netgraph\n",
    "from netgraph import Graph\n",
    "import evaluate as ev"
   ]
  },
  {
   "cell_type": "code",
   "execution_count": 4,
   "id": "6459e719-1f76-408e-855a-a02c4aa0711a",
   "metadata": {},
   "outputs": [],
   "source": [
    "random_graph_test=nx.random_partition_graph([3, 5, 4], 0.4, 0.1)"
   ]
  },
  {
   "cell_type": "code",
   "execution_count": 5,
   "id": "960d2a8b-e315-4945-990c-98989c2aefdf",
   "metadata": {},
   "outputs": [],
   "source": [
    "clustering=community.label_propagation_communities(random_graph_test)"
   ]
  },
  {
   "cell_type": "markdown",
   "id": "9d164679-8ffc-47e3-bcac-c5947d553030",
   "metadata": {},
   "source": [
    "Outer loop: Iterate over the communities\n",
    "\n",
    "Inner loop: Iterate over nodes in each community\n",
    "\n",
    "node_to_community dictionary stores which node belongs to which community"
   ]
  },
  {
   "cell_type": "code",
   "execution_count": 6,
   "id": "6453703a-90ff-4850-8fbc-76b84be84224",
   "metadata": {},
   "outputs": [],
   "source": [
    "node_to_community = dict()\n",
    "com_id=0\n",
    "for cluster in clustering:\n",
    "    for node in cluster:\n",
    "        node_to_community[node]=com_id\n",
    "        \n",
    "    com_id+=1"
   ]
  },
  {
   "cell_type": "markdown",
   "id": "c4f57075-77f1-4305-8def-a39b2f5f7b21",
   "metadata": {},
   "source": [
    "This block basically plots the graphs and colors according to community"
   ]
  },
  {
   "cell_type": "code",
   "execution_count": 7,
   "id": "81812a5c-f7cf-4ecd-b054-818e88d218ce",
   "metadata": {},
   "outputs": [
    {
     "name": "stderr",
     "output_type": "stream",
     "text": [
      "/global/scratch/saffat/miniconda3/envs/sage/lib/python3.10/site-packages/netgraph/_edge_layout.py:761: RuntimeWarning: invalid value encountered in true_divide\n",
      "  displacement = compatibility * delta / distance_squared[..., None]\n"
     ]
    },
    {
     "data": {
      "image/png": "[encoded data removed]",
      "text/plain": [
       "<Figure size 432x288 with 1 Axes>"
      ]
     },
     "metadata": {},
     "output_type": "display_data"
    }
   ],
   "source": [
    "community_to_color = {\n",
    "    0 : 'tab:blue',\n",
    "    1 : 'tab:orange',\n",
    "    2 : 'tab:green',\n",
    "    3 : 'tab:red',\n",
    "    4 : 'tab:pink'\n",
    "}\n",
    "node_color = {node: community_to_color[community_id] for node, community_id in node_to_community.items()}\n",
    "\n",
    "Graph(random_graph_test,\n",
    "      node_color=node_color, node_edge_width=0, edge_alpha=0.5,\n",
    "      node_layout='community', node_layout_kwargs=dict(node_to_community=node_to_community),\n",
    "      edge_layout='bundled'\n",
    ")\n",
    "\n",
    "plt.show()"
   ]
  },
  {
   "cell_type": "code",
   "execution_count": 8,
   "id": "29455a29-f9b2-4fd0-a399-6131e90f999d",
   "metadata": {},
   "outputs": [
    {
     "data": {
      "text/plain": [
       "0.19696969696969696"
      ]
     },
     "execution_count": 8,
     "metadata": {},
     "output_type": "execute_result"
    }
   ],
   "source": [
    "nx.density(random_graph_test)"
   ]
  },
  {
   "cell_type": "markdown",
   "id": "4478db2d-a51e-4130-9270-8ac598fec973",
   "metadata": {},
   "source": [
    "Find average degree\n",
    "\n",
    "\\begin{equation}\n",
    "\\text { average degree }=\\frac{1}{\\text { number of vertices }} \\sum_{v} \\operatorname{deg}(v)\n",
    "\\end{equation}"
   ]
  },
  {
   "cell_type": "code",
   "execution_count": 9,
   "id": "9b87ce19-52a7-44f7-b5fe-268c73254ef0",
   "metadata": {},
   "outputs": [],
   "source": [
    "def average_degree(G):\n",
    "    sum_of_degrees=sum(dict(G.degree).values())\n",
    "    num_of_nodes=G.number_of_nodes()\n",
    "    avg_degree=sum_of_degrees/num_of_nodes\n",
    "    return avg_degree"
   ]
  },
  {
   "cell_type": "code",
   "execution_count": 10,
   "id": "5b4aa8a9-3cd7-4199-b6e2-a04e98925ec3",
   "metadata": {},
   "outputs": [
    {
     "name": "stdout",
     "output_type": "stream",
     "text": [
      "2.1666666666666665\n"
     ]
    }
   ],
   "source": [
    "print(average_degree(random_graph_test))"
   ]
  },
  {
   "cell_type": "code",
   "execution_count": 19,
   "id": "c7726257-6f47-4774-acfe-93425afa069d",
   "metadata": {},
   "outputs": [
    {
     "name": "stderr",
     "output_type": "stream",
     "text": [
      "[autoreload of evaluate failed: Traceback (most recent call last):\n",
      "  File \"/global/scratch/saffat/miniconda3/envs/sage/lib/python3.10/site-packages/IPython/extensions/autoreload.py\", line 245, in check\n",
      "    superreload(m, reload, self.old_objects)\n",
      "  File \"/global/scratch/saffat/miniconda3/envs/sage/lib/python3.10/site-packages/IPython/extensions/autoreload.py\", line 394, in superreload\n",
      "    module = reload(module)\n",
      "  File \"/global/scratch/saffat/miniconda3/envs/sage/lib/python3.10/imp.py\", line 315, in reload\n",
      "    return importlib.reload(module)\n",
      "  File \"/global/scratch/saffat/miniconda3/envs/sage/lib/python3.10/importlib/__init__.py\", line 169, in reload\n",
      "    _bootstrap._exec(spec, module)\n",
      "  File \"<frozen importlib._bootstrap>\", line 619, in _exec\n",
      "  File \"<frozen importlib._bootstrap_external>\", line 879, in exec_module\n",
      "  File \"<frozen importlib._bootstrap_external>\", line 1017, in get_code\n",
      "  File \"<frozen importlib._bootstrap_external>\", line 947, in source_to_code\n",
      "  File \"<frozen importlib._bootstrap>\", line 241, in _call_with_frames_removed\n",
      "  File \"/sbb/scratch/saffat/github/Graph_project/evaluate.py\", line 234\n",
      "    \tcom_id=0\n",
      "    ^\n",
      "TabError: inconsistent use of tabs and spaces in indentation\n",
      "]\n"
     ]
    },
    {
     "ename": "AttributeError",
     "evalue": "module 'evaluate' has no attribute 'cov_per'",
     "output_type": "error",
     "traceback": [
      "\u001b[0;31m---------------------------------------------------------------------------\u001b[0m",
      "\u001b[0;31mAttributeError\u001b[0m                            Traceback (most recent call last)",
      "\u001b[0;32m/tmp/ipykernel_14920/2208466917.py\u001b[0m in \u001b[0;36m<cell line: 1>\u001b[0;34m()\u001b[0m\n\u001b[0;32m----> 1\u001b[0;31m \u001b[0mcoverage\u001b[0m\u001b[0;34m,\u001b[0m \u001b[0mperformance\u001b[0m \u001b[0;34m=\u001b[0m \u001b[0mev\u001b[0m\u001b[0;34m.\u001b[0m\u001b[0mcov_per\u001b[0m\u001b[0;34m(\u001b[0m\u001b[0mrandom_graph_test\u001b[0m\u001b[0;34m,\u001b[0m \u001b[0mclustering\u001b[0m\u001b[0;34m)\u001b[0m\u001b[0;34m\u001b[0m\u001b[0;34m\u001b[0m\u001b[0m\n\u001b[0m",
      "\u001b[0;31mAttributeError\u001b[0m: module 'evaluate' has no attribute 'cov_per'"
     ]
    }
   ],
   "source": [
    "coverage, performance = ev.cov_per(random_graph_test, clustering)"
   ]
  },
  {
   "cell_type": "code",
   "execution_count": 12,
   "id": "1bc777ed-e12b-496c-98c7-00de8e6feaf7",
   "metadata": {},
   "outputs": [
    {
     "name": "stdout",
     "output_type": "stream",
     "text": [
      "{0, 3, 4, 6, 7, 8, 11}\n",
      "{1}\n",
      "{2, 5}\n",
      "{9, 10}\n"
     ]
    }
   ],
   "source": [
    "for block in clustering:\n",
    "    print(block)"
   ]
  },
  {
   "cell_type": "code",
   "execution_count": 13,
   "id": "1d6b18d5-8d5a-441d-83e5-3681ff4c0193",
   "metadata": {},
   "outputs": [
    {
     "data": {
      "text/plain": [
       "{0, 3, 4, 6, 7, 8, 11}"
      ]
     },
     "execution_count": 13,
     "metadata": {},
     "output_type": "execute_result"
    }
   ],
   "source": [
    "next(iter(clustering))"
   ]
  },
  {
   "cell_type": "code",
   "execution_count": 14,
   "id": "cf8996a8",
   "metadata": {},
   "outputs": [
    {
     "data": {
      "text/plain": [
       "0.7692307692307693"
      ]
     },
     "execution_count": 14,
     "metadata": {},
     "output_type": "execute_result"
    }
   ],
   "source": [
    "coverage"
   ]
  },
  {
   "cell_type": "code",
   "execution_count": 15,
   "id": "17b4d51d",
   "metadata": {},
   "outputs": [
    {
     "data": {
      "text/plain": [
       "0.7575757575757576"
      ]
     },
     "execution_count": 15,
     "metadata": {},
     "output_type": "execute_result"
    }
   ],
   "source": [
    "performance"
   ]
  },
  {
   "cell_type": "code",
   "execution_count": 17,
   "id": "b7b94828",
   "metadata": {},
   "outputs": [
    {
     "name": "stdout",
     "output_type": "stream",
     "text": [
      "0\n",
      "7\n",
      "2\n",
      "5\n",
      "3\n",
      "4\n",
      "3\n",
      "6\n",
      "3\n",
      "7\n",
      "3\n",
      "8\n",
      "5\n",
      "11\n",
      "6\n",
      "7\n",
      "6\n",
      "11\n",
      "8\n",
      "9\n",
      "8\n",
      "10\n",
      "8\n",
      "11\n",
      "9\n",
      "10\n"
     ]
    }
   ],
   "source": [
    "for e in random_graph_test.edges():\n",
    "    print(e[0])\n",
    "    print(e[1])\n",
    "    "
   ]
  },
  {
   "cell_type": "code",
   "execution_count": 18,
   "id": "17a97636-ffb7-43f3-811c-50c0739a679d",
   "metadata": {},
   "outputs": [
    {
     "data": {
      "text/plain": [
       "EdgeView([(0, 7), (2, 5), (3, 4), (3, 6), (3, 7), (3, 8), (5, 11), (6, 7), (6, 11), (8, 9), (8, 10), (8, 11), (9, 10)])"
      ]
     },
     "execution_count": 18,
     "metadata": {},
     "output_type": "execute_result"
    }
   ],
   "source": [
    "random_graph_test.edges()"
   ]
  },
  {
   "cell_type": "code",
   "execution_count": null,
   "id": "e9a96587-8f9f-4e38-b153-95aa98aba53d",
   "metadata": {},
   "outputs": [],
   "source": []
  }
 ],
 "metadata": {
  "kernelspec": {
   "display_name": "Python 3 (ipykernel)",
   "language": "python",
   "name": "python3"
  },
  "language_info": {
   "codemirror_mode": {
    "name": "ipython",
    "version": 3
   },
   "file_extension": ".py",
   "mimetype": "text/x-python",
   "name": "python",
   "nbconvert_exporter": "python",
   "pygments_lexer": "ipython3",
   "version": "3.10.4"
  }
 },
 "nbformat": 4,
 "nbformat_minor": 5
}
