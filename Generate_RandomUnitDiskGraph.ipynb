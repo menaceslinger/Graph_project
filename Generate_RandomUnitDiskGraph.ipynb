{
 "cells": [
  {
   "cell_type": "code",
   "execution_count": 1,
   "metadata": {},
   "outputs": [],
   "source": [
    "#!pip install networkx==2.5"
   ]
  },
  {
   "cell_type": "code",
   "execution_count": 2,
   "metadata": {},
   "outputs": [],
   "source": [
    "#!pip install tqdm"
   ]
  },
  {
   "cell_type": "code",
   "execution_count": 3,
   "metadata": {},
   "outputs": [],
   "source": [
    "from tqdm import tqdm"
   ]
  },
  {
   "cell_type": "code",
   "execution_count": 4,
   "metadata": {},
   "outputs": [],
   "source": [
    "import sage.all\n",
    "import numpy as np"
   ]
  },
  {
   "cell_type": "code",
   "execution_count": 5,
   "metadata": {},
   "outputs": [],
   "source": [
    "import networkx as nx"
   ]
  },
  {
   "cell_type": "code",
   "execution_count": 6,
   "metadata": {},
   "outputs": [],
   "source": [
    "from sage.graphs.generators.random import RandomUnitDiskGraph\n",
    "from sage.misc.randstate import current_randstate\n",
    "seed = current_randstate().seed()"
   ]
  },
  {
   "cell_type": "code",
   "execution_count": 7,
   "metadata": {},
   "outputs": [],
   "source": [
    "#Generates Chordal Graphs and converts them into networkx object\n",
    "np.set_printoptions(suppress=True)\n",
    "def generate_graph(start, end, step):\n",
    "    graphs = []\n",
    "    total=(np.floor(end/step).astype(int))\n",
    "    properties = []\n",
    "    avg_degree=0\n",
    "    avg_density=0\n",
    "    num_of_nodes=start\n",
    "    for i in tqdm(range(total)):\n",
    "        T = RandomUnitDiskGraph(num_of_nodes, radius=.5, side=1, seed=seed)\n",
    "        ng = T.networkx_graph()\n",
    "        if (nx.is_connected(ng)):\n",
    "            #nx.draw(ng)\n",
    "            graphs.append(ng)\n",
    "            val = np.array([num_of_nodes, ng.number_of_edges(), average_degree(ng), nx.density(ng)])\n",
    "            properties.append(val)\n",
    "            avg_degree+=average_degree(ng)\n",
    "            avg_density+=nx.density(ng)\n",
    "            num_of_nodes+=step\n",
    "    return graphs, properties,avg_degree/len(graphs),avg_density/len(graphs)"
   ]
  },
  {
   "cell_type": "code",
   "execution_count": 8,
   "metadata": {},
   "outputs": [],
   "source": [
    "def average_degree(G):\n",
    "    sum_of_degrees=sum(dict(G.degree).values())\n",
    "    num_of_nodes=G.number_of_nodes()\n",
    "    avg_degree=sum_of_degrees/num_of_nodes\n",
    "    return avg_degree"
   ]
  },
  {
   "cell_type": "code",
   "execution_count": 7,
   "metadata": {},
   "outputs": [],
   "source": [
    "#graphs, properties,avg_degree,avg_density = generate_graph(5, 2000, 5) #start, end, step\n",
    "#print(avg_degree)\n",
    "#print(avg_density)"
   ]
  },
  {
   "cell_type": "code",
   "execution_count": 8,
   "metadata": {},
   "outputs": [],
   "source": [
    "#len(graphs)"
   ]
  },
  {
   "cell_type": "code",
   "execution_count": 9,
   "metadata": {},
   "outputs": [],
   "source": [
    "#nx.draw(graphs[2])\n",
    "#print(properties[2])"
   ]
  },
  {
   "cell_type": "code",
   "execution_count": 10,
   "metadata": {},
   "outputs": [],
   "source": [
    "#import pickle"
   ]
  },
  {
   "cell_type": "code",
   "execution_count": 11,
   "metadata": {},
   "outputs": [],
   "source": [
    "#with open(\"unitd_graphs_first_400(step_5).pkl\", \"wb\") as fp:\n",
    "#    pickle.dump(graphs, fp)\n",
    "#with open(\"unitd_properties_first_400(step_5).pkl\", \"wb\") as fp:\n",
    "#    pickle.dump(properties, fp)"
   ]
  },
  {
   "cell_type": "code",
   "execution_count": 9,
   "metadata": {},
   "outputs": [
    {
     "name": "stderr",
     "output_type": "stream",
     "text": [
      "100%|██████████| 200/200 [20:06<00:00,  6.03s/it]"
     ]
    },
    {
     "name": "stdout",
     "output_type": "stream",
     "text": [
      "1217.2896690569607\n",
      "0.4876816039603792\n"
     ]
    },
    {
     "name": "stderr",
     "output_type": "stream",
     "text": [
      "\n"
     ]
    }
   ],
   "source": [
    "graphs2, properties2,avg_degree2,avg_density2 = generate_graph(2000, 1000, 5) #start, end, step\n",
    "print(avg_degree2)\n",
    "print(avg_density2)"
   ]
  },
  {
   "cell_type": "code",
   "execution_count": 10,
   "metadata": {},
   "outputs": [],
   "source": [
    "import pickle\n",
    "with open(\"unitd_graphs_second_200(step_5).pkl\", \"wb\") as fp:\n",
    "    pickle.dump(graphs2, fp)\n",
    "with open(\"unitd_properties_second_200(step_5).pkl\", \"wb\") as fp:\n",
    "    pickle.dump(properties2, fp)"
   ]
  },
  {
   "cell_type": "code",
   "execution_count": 9,
   "metadata": {},
   "outputs": [
    {
     "name": "stderr",
     "output_type": "stream",
     "text": [
      "100%|██████████| 200/200 [1:12:59<00:00, 21.90s/it]   "
     ]
    },
    {
     "name": "stdout",
     "output_type": "stream",
     "text": [
      "1677.1047949842575\n",
      "0.47959005192342974\n"
     ]
    },
    {
     "name": "stderr",
     "output_type": "stream",
     "text": [
      "\n"
     ]
    }
   ],
   "source": [
    "graphs3, properties3,avg_degree3,avg_density3 = generate_graph(3000, 1000, 5) #start, end, step\n",
    "print(avg_degree3)\n",
    "print(avg_density3)"
   ]
  },
  {
   "cell_type": "code",
   "execution_count": 10,
   "metadata": {},
   "outputs": [],
   "source": [
    "import pickle\n",
    "with open(\"unitd_graphs_last_200(step_5).pkl\", \"wb\") as fp:\n",
    "    pickle.dump(graphs3, fp)\n",
    "with open(\"unitd_properties_last_200(step_5).pkl\", \"wb\") as fp:\n",
    "    pickle.dump(properties3, fp)"
   ]
  },
  {
   "cell_type": "code",
   "execution_count": null,
   "metadata": {},
   "outputs": [],
   "source": []
  }
 ],
 "metadata": {
  "kernelspec": {
   "display_name": "Python 3 (ipykernel)",
   "language": "python",
   "name": "python3"
  },
  "language_info": {
   "codemirror_mode": {
    "name": "ipython",
    "version": 3
   },
   "file_extension": ".py",
   "mimetype": "text/x-python",
   "name": "python",
   "nbconvert_exporter": "python",
   "pygments_lexer": "ipython3",
   "version": "3.10.4"
  }
 },
 "nbformat": 4,
 "nbformat_minor": 4
}
