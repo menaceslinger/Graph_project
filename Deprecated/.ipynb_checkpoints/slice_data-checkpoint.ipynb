{
 "cells": [
  {
   "cell_type": "code",
   "execution_count": 33,
   "id": "41f647cc-1d69-4ba3-b4ac-fac207e52236",
   "metadata": {},
   "outputs": [],
   "source": [
    "import pickle"
   ]
  },
  {
   "cell_type": "code",
   "execution_count": 34,
   "id": "ea3a2efe-2128-4cae-967b-c1ecbf0dbaf1",
   "metadata": {},
   "outputs": [],
   "source": [
    "locG=r\"interval_graphs_first_397(step_5).pkl\"\n",
    "locP=r\"interval_properties_first_397(step_5).pkl\""
   ]
  },
  {
   "cell_type": "code",
   "execution_count": 35,
   "id": "4e7e1f1f-b6fc-4b95-b61e-eb7b4074085f",
   "metadata": {},
   "outputs": [],
   "source": [
    "with open(locG, \"rb\") as input_file:\n",
    "    graphs = pickle.load(input_file)\n",
    "with open(locP, \"rb\") as input_file:\n",
    "    properties = pickle.load(input_file)"
   ]
  },
  {
   "cell_type": "code",
   "execution_count": 36,
   "id": "05415790-6312-4df6-8a5d-54a5b27131a5",
   "metadata": {},
   "outputs": [
    {
     "name": "stdout",
     "output_type": "stream",
     "text": [
      "397\n",
      "397\n",
      "Graph with 15 nodes and 54 edges\n",
      "[15.         54.          7.2         0.51428571]\n"
     ]
    }
   ],
   "source": [
    "print(len(graphs))\n",
    "print(len(properties))\n",
    "print(graphs[2])\n",
    "print(properties[2])"
   ]
  },
  {
   "cell_type": "code",
   "execution_count": 40,
   "id": "2d3dc547",
   "metadata": {},
   "outputs": [
    {
     "name": "stdout",
     "output_type": "stream",
     "text": [
      "Graph with 1985 nodes and 1300718 edges\n"
     ]
    }
   ],
   "source": [
    "print(graphs[396])"
   ]
  },
  {
   "cell_type": "code",
   "execution_count": 41,
   "id": "7ba0e85b-bc80-4d9f-a8a0-9b5e9ed70c8a",
   "metadata": {},
   "outputs": [],
   "source": [
    "graphs_slice=graphs[0:50]\n",
    "properties_slice=properties[0:50]"
   ]
  },
  {
   "cell_type": "code",
   "execution_count": 42,
   "id": "7ac16f8b-8231-481a-99c9-ce0d91b67422",
   "metadata": {},
   "outputs": [
    {
     "name": "stdout",
     "output_type": "stream",
     "text": [
      "50\n",
      "50\n",
      "Graph with 15 nodes and 54 edges\n",
      "[15.         54.          7.2         0.51428571]\n"
     ]
    }
   ],
   "source": [
    "print(len(graphs_slice))\n",
    "print(len(properties_slice))\n",
    "print(graphs_slice[2])\n",
    "print(properties_slice[2])"
   ]
  },
  {
   "cell_type": "code",
   "execution_count": 43,
   "id": "e18bfe54-9aca-4f85-a5aa-b13820546f70",
   "metadata": {},
   "outputs": [],
   "source": [
    "savelocG=r\"sliced_data/interval_graphs_first_50.pickle\"\n",
    "savelocP=r\"sliced_data/interval_properties_first_50.pickle\""
   ]
  },
  {
   "cell_type": "code",
   "execution_count": 44,
   "id": "2f161867-fe12-49c7-81f7-38c387577ca2",
   "metadata": {},
   "outputs": [],
   "source": [
    "with open(savelocG, \"wb\") as output_file:\n",
    "    pickle.dump(graphs_slice, output_file)\n",
    "with open(savelocP, \"wb\") as output_file:\n",
    "    pickle.dump(properties_slice, output_file)"
   ]
  },
  {
   "cell_type": "code",
   "execution_count": 45,
   "id": "517ed4bc-391f-403d-a3bc-615039b8e7a8",
   "metadata": {},
   "outputs": [
    {
     "name": "stdout",
     "output_type": "stream",
     "text": [
      "50\n",
      "Graph with 15 nodes and 54 edges\n",
      "50\n",
      "[15.         54.          7.2         0.51428571]\n"
     ]
    }
   ],
   "source": [
    "with open(savelocG, \"rb\") as input_file:\n",
    "    graphs_test = pickle.load(input_file)\n",
    "    print(len(graphs_test))\n",
    "    print(graphs_test[2])\n",
    "with open(savelocP, \"rb\") as input_file:\n",
    "    properties_test = pickle.load(input_file)\n",
    "    print(len(properties_test))\n",
    "    print(properties_test[2])"
   ]
  },
  {
   "cell_type": "code",
   "execution_count": null,
   "id": "bba5740a-5c43-4dca-afd7-04400aaddc10",
   "metadata": {},
   "outputs": [],
   "source": []
  },
  {
   "cell_type": "code",
   "execution_count": null,
   "id": "26bdb0f5-31ea-4ce6-a693-0f568ac24e1c",
   "metadata": {},
   "outputs": [],
   "source": []
  },
  {
   "cell_type": "code",
   "execution_count": null,
   "id": "3dcf2e4d-9f76-4d61-9905-24aab7419b6e",
   "metadata": {},
   "outputs": [],
   "source": []
  }
 ],
 "metadata": {
  "kernelspec": {
   "display_name": "Python 3 (ipykernel)",
   "language": "python",
   "name": "python3"
  },
  "language_info": {
   "codemirror_mode": {
    "name": "ipython",
    "version": 3
   },
   "file_extension": ".py",
   "mimetype": "text/x-python",
   "name": "python",
   "nbconvert_exporter": "python",
   "pygments_lexer": "ipython3",
   "version": "3.10.4"
  }
 },
 "nbformat": 4,
 "nbformat_minor": 5
}
