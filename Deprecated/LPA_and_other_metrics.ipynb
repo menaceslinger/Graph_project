{
 "cells": [
  {
   "cell_type": "code",
   "execution_count": 228,
   "id": "51f1063c-64e4-4c0b-82d5-aa511babd41d",
   "metadata": {},
   "outputs": [
    {
     "name": "stdout",
     "output_type": "stream",
     "text": [
      "The autoreload extension is already loaded. To reload it, use:\n",
      "  %reload_ext autoreload\n"
     ]
    }
   ],
   "source": [
    "%load_ext autoreload\n",
    "%autoreload 2\n",
    "import matplotlib.pyplot as plt\n",
    "import networkx as nx\n",
    "from networkx.algorithms import community\n",
    "# pip install netgraph\n",
    "from netgraph import Graph\n",
    "import evaluate as ev"
   ]
  },
  {
   "cell_type": "code",
   "execution_count": 248,
   "id": "6459e719-1f76-408e-855a-a02c4aa0711a",
   "metadata": {},
   "outputs": [],
   "source": [
    "random_graph_test=nx.random_partition_graph([3, 5, 4,5], 0.9, 0.1)\n",
    "#random_graph_test = nx.complete_graph(9)\n",
    "random_graph_test = nx.path_graph(3)"
   ]
  },
  {
   "cell_type": "code",
   "execution_count": 249,
   "id": "960d2a8b-e315-4945-990c-98989c2aefdf",
   "metadata": {},
   "outputs": [],
   "source": [
    "clustering=community.label_propagation_communities(random_graph_test)"
   ]
  },
  {
   "cell_type": "code",
   "execution_count": 250,
   "id": "c01322d0-cfca-4678-b46c-e900c4514ed9",
   "metadata": {},
   "outputs": [
    {
     "name": "stdout",
     "output_type": "stream",
     "text": [
      "0\n"
     ]
    }
   ],
   "source": [
    "cutratio = ev.cut_ratio(random_graph_test,clustering)\n",
    "print(cutratio)"
   ]
  },
  {
   "cell_type": "code",
   "execution_count": 209,
   "id": "c59f095c-13f5-47a4-b8a2-4fd95c766b72",
   "metadata": {},
   "outputs": [
    {
     "data": {
      "text/plain": [
       "4"
      ]
     },
     "execution_count": 209,
     "metadata": {},
     "output_type": "execute_result"
    }
   ],
   "source": [
    "len(clustering)"
   ]
  },
  {
   "cell_type": "markdown",
   "id": "9d164679-8ffc-47e3-bcac-c5947d553030",
   "metadata": {},
   "source": [
    "Outer loop: Iterate over the communities\n",
    "\n",
    "Inner loop: Iterate over nodes in each community\n",
    "\n",
    "node_to_community dictionary stores which node belongs to which community"
   ]
  },
  {
   "cell_type": "code",
   "execution_count": 210,
   "id": "6453703a-90ff-4850-8fbc-76b84be84224",
   "metadata": {},
   "outputs": [],
   "source": [
    "node_to_community = dict()\n",
    "com_id=0\n",
    "for cluster in clustering:\n",
    "    for node in cluster:\n",
    "        node_to_community[node]=com_id\n",
    "        \n",
    "    com_id+=1"
   ]
  },
  {
   "cell_type": "markdown",
   "id": "c4f57075-77f1-4305-8def-a39b2f5f7b21",
   "metadata": {},
   "source": [
    "This block basically plots the graphs and colors according to community"
   ]
  },
  {
   "cell_type": "code",
   "execution_count": 211,
   "id": "81812a5c-f7cf-4ecd-b054-818e88d218ce",
   "metadata": {},
   "outputs": [
    {
     "data": {
      "image/png": "[encoded data removed]",
      "text/plain": [
       "<Figure size 432x288 with 1 Axes>"
      ]
     },
     "metadata": {},
     "output_type": "display_data"
    }
   ],
   "source": [
    "community_to_color = {\n",
    "    0 : 'tab:blue',\n",
    "    1 : 'tab:orange',\n",
    "    2 : 'tab:green',\n",
    "    3 : 'tab:red',\n",
    "    4 : 'tab:pink'\n",
    "}\n",
    "node_color = {node: community_to_color[community_id] for node, community_id in node_to_community.items()}\n",
    "\n",
    "Graph(random_graph_test,\n",
    "      node_color=node_color, node_edge_width=0, edge_alpha=0.5,\n",
    "      node_layout='community', node_layout_kwargs=dict(node_to_community=node_to_community),\n",
    "      edge_layout='bundled'\n",
    ")\n",
    "\n",
    "plt.show()"
   ]
  },
  {
   "cell_type": "code",
   "execution_count": 49,
   "id": "29455a29-f9b2-4fd0-a399-6131e90f999d",
   "metadata": {},
   "outputs": [
    {
     "data": {
      "text/plain": [
       "0.02"
      ]
     },
     "execution_count": 49,
     "metadata": {},
     "output_type": "execute_result"
    }
   ],
   "source": [
    "nx.density(random_graph_test)"
   ]
  },
  {
   "cell_type": "markdown",
   "id": "4478db2d-a51e-4130-9270-8ac598fec973",
   "metadata": {},
   "source": [
    "Find average degree\n",
    "\n",
    "\\begin{equation}\n",
    "\\text { average degree }=\\frac{1}{\\text { number of vertices }} \\sum_{v} \\operatorname{deg}(v)\n",
    "\\end{equation}"
   ]
  },
  {
   "cell_type": "code",
   "execution_count": 36,
   "id": "9b87ce19-52a7-44f7-b5fe-268c73254ef0",
   "metadata": {},
   "outputs": [],
   "source": [
    "def average_degree(G):\n",
    "    sum_of_degrees=sum(dict(G.degree).values())\n",
    "    num_of_nodes=G.number_of_nodes()\n",
    "    avg_degree=sum_of_degrees/num_of_nodes\n",
    "    return avg_degree"
   ]
  },
  {
   "cell_type": "code",
   "execution_count": 37,
   "id": "5b4aa8a9-3cd7-4199-b6e2-a04e98925ec3",
   "metadata": {},
   "outputs": [
    {
     "name": "stdout",
     "output_type": "stream",
     "text": [
      "1.8\n"
     ]
    }
   ],
   "source": [
    "print(average_degree(random_graph_test))"
   ]
  },
  {
   "cell_type": "code",
   "execution_count": 38,
   "id": "c7726257-6f47-4774-acfe-93425afa069d",
   "metadata": {},
   "outputs": [],
   "source": [
    "coverage, performance = ev.cov_per(random_graph_test, clustering)"
   ]
  },
  {
   "cell_type": "code",
   "execution_count": 39,
   "id": "1bc777ed-e12b-496c-98c7-00de8e6feaf7",
   "metadata": {},
   "outputs": [
    {
     "name": "stdout",
     "output_type": "stream",
     "text": [
      "{0, 1, 2}\n",
      "{3, 4}\n",
      "{5, 6}\n",
      "{8, 9, 7}\n"
     ]
    }
   ],
   "source": [
    "for block in clustering:\n",
    "    print(block)"
   ]
  },
  {
   "cell_type": "code",
   "execution_count": 40,
   "id": "1d6b18d5-8d5a-441d-83e5-3681ff4c0193",
   "metadata": {},
   "outputs": [
    {
     "data": {
      "text/plain": [
       "{0, 1, 2}"
      ]
     },
     "execution_count": 40,
     "metadata": {},
     "output_type": "execute_result"
    }
   ],
   "source": [
    "next(iter(clustering))"
   ]
  },
  {
   "cell_type": "code",
   "execution_count": 41,
   "id": "cf8996a8",
   "metadata": {},
   "outputs": [
    {
     "data": {
      "text/plain": [
       "0.6666666666666666"
      ]
     },
     "execution_count": 41,
     "metadata": {},
     "output_type": "execute_result"
    }
   ],
   "source": [
    "coverage"
   ]
  },
  {
   "cell_type": "code",
   "execution_count": 42,
   "id": "17b4d51d",
   "metadata": {},
   "outputs": [
    {
     "data": {
      "text/plain": [
       "0.8888888888888888"
      ]
     },
     "execution_count": 42,
     "metadata": {},
     "output_type": "execute_result"
    }
   ],
   "source": [
    "performance"
   ]
  },
  {
   "cell_type": "code",
   "execution_count": 43,
   "id": "b7b94828",
   "metadata": {},
   "outputs": [
    {
     "name": "stdout",
     "output_type": "stream",
     "text": [
      "0\n",
      "1\n",
      "1\n",
      "2\n",
      "2\n",
      "3\n",
      "3\n",
      "4\n",
      "4\n",
      "5\n",
      "5\n",
      "6\n",
      "6\n",
      "7\n",
      "7\n",
      "8\n",
      "8\n",
      "9\n"
     ]
    }
   ],
   "source": [
    "for e in random_graph_test.edges():\n",
    "    print(e[0])\n",
    "    print(e[1])\n",
    "    "
   ]
  },
  {
   "cell_type": "code",
   "execution_count": 44,
   "id": "17a97636-ffb7-43f3-811c-50c0739a679d",
   "metadata": {},
   "outputs": [
    {
     "data": {
      "text/plain": [
       "EdgeView([(0, 1), (1, 2), (2, 3), (3, 4), (4, 5), (5, 6), (6, 7), (7, 8), (8, 9)])"
      ]
     },
     "execution_count": 44,
     "metadata": {},
     "output_type": "execute_result"
    }
   ],
   "source": [
    "random_graph_test.edges()"
   ]
  },
  {
   "cell_type": "code",
   "execution_count": null,
   "id": "e9a96587-8f9f-4e38-b153-95aa98aba53d",
   "metadata": {},
   "outputs": [],
   "source": []
  }
 ],
 "metadata": {
  "kernelspec": {
   "display_name": "Python 3 (ipykernel)",
   "language": "python",
   "name": "python3"
  },
  "language_info": {
   "codemirror_mode": {
    "name": "ipython",
    "version": 3
   },
   "file_extension": ".py",
   "mimetype": "text/x-python",
   "name": "python",
   "nbconvert_exporter": "python",
   "pygments_lexer": "ipython3",
   "version": "3.10.4"
  }
 },
 "nbformat": 4,
 "nbformat_minor": 5
}
