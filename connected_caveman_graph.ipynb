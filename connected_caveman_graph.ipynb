{
 "cells": [
  {
   "cell_type": "code",
   "execution_count": 1,
   "id": "6d0a1a63",
   "metadata": {},
   "outputs": [],
   "source": [
    "import tqdm\n",
    "import numpy as np\n",
    "import networkx as nx\n",
    "from networkx.generators.community import connected_caveman_graph\n",
    "from IPython.display import clear_output, display"
   ]
  },
  {
   "cell_type": "code",
   "execution_count": 2,
   "id": "7eaab6f5",
   "metadata": {},
   "outputs": [],
   "source": [
    "#Generates Chordal Graphs and converts them into networkx object\n",
    "\n",
    "def generate_graph():\n",
    "    graphs = []\n",
    "    #total=(np.floor(end/step).astype(int))\n",
    "    properties = []\n",
    "    avg_degree=0\n",
    "    avg_density=0\n",
    "    #num_of_nodes=start\n",
    "    for num_of_cliques in range(5,151,5):\n",
    "        clear_output(wait=True)\n",
    "        print(num_of_cliques)\n",
    "        for size_of_clique in range(5,151,5):\n",
    "            ng = nx.connected_caveman_graph(num_of_cliques, size_of_clique)\n",
    "            if (nx.is_connected(ng)):\n",
    "                #nx.draw(ng)\n",
    "                graphs.append(ng)\n",
    "                val = np.array([((size_of_clique*num_of_cliques)), ng.number_of_edges(), average_degree(ng), nx.density(ng)])\n",
    "                properties.append(val)\n",
    "                avg_degree+=average_degree(ng)\n",
    "                avg_density+=nx.density(ng)\n",
    "                #num_of_nodes+=step\n",
    "    return graphs, properties,avg_degree/len(graphs),avg_density/len(graphs)"
   ]
  },
  {
   "cell_type": "code",
   "execution_count": 3,
   "id": "e304ff39",
   "metadata": {},
   "outputs": [],
   "source": [
    "def average_degree(G):\n",
    "    sum_of_degrees=sum(dict(G.degree).values())\n",
    "    num_of_nodes=G.number_of_nodes()\n",
    "    avg_degree=sum_of_degrees/num_of_nodes\n",
    "    return avg_degree"
   ]
  },
  {
   "cell_type": "code",
   "execution_count": 4,
   "id": "8779503a",
   "metadata": {},
   "outputs": [
    {
     "name": "stdout",
     "output_type": "stream",
     "text": [
      "150\n",
      "76.5\n",
      "0.02597714798957413\n"
     ]
    }
   ],
   "source": [
    "graphs, properties,avg_degree,avg_density = generate_graph() #start, end, step\n",
    "print(avg_degree)\n",
    "print(avg_density)"
   ]
  },
  {
   "cell_type": "code",
   "execution_count": 5,
   "id": "b1e7755f",
   "metadata": {},
   "outputs": [
    {
     "data": {
      "image/png": "[encoded data removed]",
      "text/plain": [
       "<Figure size 432x288 with 1 Axes>"
      ]
     },
     "metadata": {},
     "output_type": "display_data"
    }
   ],
   "source": [
    "nx.draw(graphs[3])"
   ]
  },
  {
   "cell_type": "code",
   "execution_count": 6,
   "id": "c9caec52",
   "metadata": {},
   "outputs": [
    {
     "data": {
      "text/plain": [
       "900"
      ]
     },
     "execution_count": 6,
     "metadata": {},
     "output_type": "execute_result"
    }
   ],
   "source": [
    "len(graphs)"
   ]
  },
  {
   "cell_type": "code",
   "execution_count": 8,
   "id": "2f0654c1",
   "metadata": {},
   "outputs": [],
   "source": [
    "import pickle\n",
    "with open(\"connected_cavemen_graphs.pkl\", \"wb\") as fp:\n",
    "    pickle.dump(graphs, fp)\n",
    "with open(\"connected_cavemen_properties.pkl\", \"wb\") as fp:\n",
    "    pickle.dump(properties, fp)"
   ]
  },
  {
   "cell_type": "code",
   "execution_count": null,
   "id": "7efcc059",
   "metadata": {},
   "outputs": [],
   "source": []
  }
 ],
 "metadata": {
  "kernelspec": {
   "display_name": "Python 3 (ipykernel)",
   "language": "python",
   "name": "python3"
  },
  "language_info": {
   "codemirror_mode": {
    "name": "ipython",
    "version": 3
   },
   "file_extension": ".py",
   "mimetype": "text/x-python",
   "name": "python",
   "nbconvert_exporter": "python",
   "pygments_lexer": "ipython3",
   "version": "3.10.4"
  }
 },
 "nbformat": 4,
 "nbformat_minor": 5
}
