{
 "cells": [
  {
   "cell_type": "code",
   "execution_count": 1,
   "id": "19519c5f-c5fa-41a1-892a-ea849cce5cc2",
   "metadata": {},
   "outputs": [],
   "source": [
    "# Import necessary packages\n",
    "import networkx as nx\n",
    "import pickle\n",
    "import evaluate as ev"
   ]
  },
  {
   "cell_type": "markdown",
   "id": "18d65dbb-70b9-4070-80a6-6c8f708fdd28",
   "metadata": {},
   "source": [
    "Specify pickle file location here (of graph object list and properties list)"
   ]
  },
  {
   "cell_type": "code",
   "execution_count": 2,
   "id": "4ec4b932-ecdf-4591-8e2e-4db0fc5eec3c",
   "metadata": {},
   "outputs": [],
   "source": [
    "# Path location for saved data\n",
    "savelocG=r\"sliced_data/connected_cavemen_graphs_first_50.pickle\"\n",
    "savelocP=r\"sliced_data/connected_cavemen_properties_first_50.pickle\""
   ]
  },
  {
   "cell_type": "code",
   "execution_count": 3,
   "id": "d89c76f1-7298-4c04-8843-395783646de7",
   "metadata": {},
   "outputs": [
    {
     "name": "stdout",
     "output_type": "stream",
     "text": [
      "Loaded Graphs: 50\n",
      "Loaded Properties: 50\n"
     ]
    }
   ],
   "source": [
    "# Load data from pickle files\n",
    "with open(savelocG, \"rb\") as input_file:\n",
    "    graphs = pickle.load(input_file)\n",
    "\n",
    "with open(savelocP, \"rb\") as input_file:\n",
    "    properties = pickle.load(input_file)\n",
    "print(f'Loaded Graphs: {len(graphs)}\\nLoaded Properties: {len(properties)}')"
   ]
  },
  {
   "cell_type": "markdown",
   "id": "f3679f93-a6d7-4df4-8d14-b3371fcbd289",
   "metadata": {},
   "source": [
    "[number of nodes, number of edges, avg_degree, density]"
   ]
  },
  {
   "cell_type": "code",
   "execution_count": 4,
   "metadata": {},
   "outputs": [],
   "source": [
    "def print_properties(arr):\n",
    "    str = \"Properties\\n\"\n",
    "    str += f\"Nodes = {arr[0]} | \"\n",
    "    str += f\"Edges = {arr[1]} | \"\n",
    "    str += f\"Average Degree = {arr[2]} | \"\n",
    "    str += f\"Density = {arr[3]} | \"\n",
    "    print(str)\n",
    "\n",
    "def extract_properties(arr):\n",
    "    return [int(arr[0]), int(arr[1]), arr[2], arr[3]]"
   ]
  },
  {
   "cell_type": "code",
   "execution_count": 5,
   "metadata": {},
   "outputs": [
    {
     "name": "stdout",
     "output_type": "stream",
     "text": [
      "Properties\n",
      "Nodes = 25.0 | Edges = 50.0 | Average Degree = 4.0 | Density = 0.16666666666666666 | \n"
     ]
    },
    {
     "data": {
      "image/png": "[encoded data removed]",
      "text/plain": [
       "<Figure size 432x288 with 1 Axes>"
      ]
     },
     "metadata": {},
     "output_type": "display_data"
    }
   ],
   "source": [
    "# Sanity check \n",
    "for g,p in zip(graphs, properties):\n",
    "    nx.draw(g)\n",
    "    print_properties(p)\n",
    "    break"
   ]
  },
  {
   "cell_type": "markdown",
   "metadata": {},
   "source": [
    "## HCS Algorithm \n",
    "#### Test graphs using HCS algorithm and analyze results"
   ]
  },
  {
   "cell_type": "code",
   "execution_count": 6,
   "metadata": {},
   "outputs": [],
   "source": [
    "# Install dependency\n",
    "# !pip install netgraph"
   ]
  },
  {
   "cell_type": "code",
   "execution_count": 7,
   "metadata": {},
   "outputs": [],
   "source": [
    "from networkx.algorithms import community\n",
    "from netgraph import Graph\n",
    "import matplotlib.pyplot as plt\n",
    "from hcs_module import HCS,labelled_HCS\n",
    "import csvwriter as cvw"
   ]
  },
  {
   "cell_type": "code",
   "execution_count": 8,
   "metadata": {},
   "outputs": [],
   "source": [
    "# Helper function to generate node-community dict for netgraph color function\n",
    "def node_comm_dict(labels):\n",
    "    out = dict()\n",
    "    for (node, comm) in enumerate(labels):\n",
    "        out[node] = comm\n",
    "    return out\n"
   ]
  },
  {
   "cell_type": "code",
   "execution_count": 9,
   "metadata": {},
   "outputs": [],
   "source": [
    "# Choose second graph in the array\n",
    "G = graphs[2].copy()"
   ]
  },
  {
   "cell_type": "code",
   "execution_count": 13,
   "metadata": {},
   "outputs": [
    {
     "name": "stdout",
     "output_type": "stream",
     "text": [
      "[75, 525, 14.0, 0.1891891891891892]\n",
      "0.0022222222222222222 0.9904761904761905 0.9904761904761905 0.9963963963963964\n"
     ]
    }
   ],
   "source": [
    "# Check the HCS algorithm on a graph\n",
    "HCS_G = HCS(G.copy())\n",
    "labels, itr = labelled_HCS(G.copy())\n",
    "node_to_community= node_comm_dict(labels)\n",
    "\n",
    "cutratio = ev.cut_ratio(G,itr)\n",
    "avg_internal_density= ev.avg_internal_density(G,itr)\n",
    "coverage, performance = ev.cov_per(G,itr)\n",
    "\n",
    "print(extract_properties(properties[2]))\n",
    "print(cutratio, avg_internal_density, coverage, performance)\n"
   ]
  },
  {
   "cell_type": "code",
   "execution_count": 11,
   "metadata": {},
   "outputs": [
    {
     "name": "stdout",
     "output_type": "stream",
     "text": [
      "> Sucessfully written to ./csvs/default.csv ...\n"
     ]
    }
   ],
   "source": [
    "def evaluate_graphs(graphs):\n",
    "    csvwriter= cvw.CustomCSV(cols=cvw.CustomCSV.ALL_HEADER)\n",
    "    results = []\n",
    "    for idx, graph in enumerate(graphs):\n",
    "        G = graph.copy()\n",
    "        labels, itr = labelled_HCS(G.copy())\n",
    "        \n",
    "        cutratio = ev.cut_ratio(G,itr)\n",
    "        avg_internal_density= ev.avg_internal_density(G,itr)\n",
    "        coverage, performance = ev.cov_per(G,itr)\n",
    "        node_to_community= node_comm_dict(labels)\n",
    "        props = extract_properties(properties[idx])\n",
    "        results.append([*props,cutratio, avg_internal_density,coverage, performance ])\n",
    "    csvwriter.write_to_csv(data=results)\n",
    "\n",
    "evaluate_graphs(graphs=graphs)"
   ]
  },
  {
   "cell_type": "code",
   "execution_count": null,
   "metadata": {},
   "outputs": [],
   "source": [
    "community_to_color = {\n",
    "    0 : 'tab:blue',\n",
    "    1 : 'tab:orange',\n",
    "    2 : 'tab:green',\n",
    "    3 : 'tab:red',\n",
    "    4 : 'tab:pink',\n",
    "    5 : 'tab:cyan',\n",
    "    6 : 'tab:olive',\n",
    "    7 : 'tab:purple',\n",
    "    8 : 'tab:brown'\n",
    "}\n",
    "node_color = {node: community_to_color[community_id] for node, community_id in node_to_community.items()}\n",
    "\n",
    "Graph(HCS_G,\n",
    "      node_color=node_color, node_edge_width=0, edge_alpha=0.5,\n",
    "      node_layout='community', node_layout_kwargs=dict(node_to_community=node_to_community),\n",
    "      edge_layout='bundled'\n",
    ")\n",
    "\n",
    "plt.show()"
   ]
  },
  {
   "cell_type": "code",
   "execution_count": null,
   "metadata": {},
   "outputs": [],
   "source": [
    "# Helper function to draw both original and clustered graphs\n",
    "def plot_graph_and_cluster(G, node_color_dict, key=\"HCS\"):\n",
    "    '''\n",
    "      Input:\n",
    "      G = The original graph\n",
    "      node_color_dict = The clustered graph node community dict\n",
    "      key = The name of the clustering algorithm\n",
    "      \n",
    "      Output: \n",
    "      void \n",
    "    '''\n",
    "    \n",
    "    fig, (ax1, ax2) = plt.subplots(1, 2)\n",
    "    fig.suptitle('Original Graph and Clustered Graph using '+ key)\n",
    "    \n",
    "    # Draw original graph\n",
    "    nx.draw(G, ax=ax1)\n",
    "    \n",
    "    # Draw clusterd graph\n",
    "    Graph(G,\n",
    "      node_color=node_color, node_edge_width=0, edge_alpha=0.5,\n",
    "      node_layout='community', node_layout_kwargs=dict(node_to_community=node_to_community),\n",
    "      edge_layout='bundled',\n",
    "      ax=ax2\n",
    "    )\n",
    "    plt.show()"
   ]
  },
  {
   "cell_type": "code",
   "execution_count": null,
   "metadata": {},
   "outputs": [],
   "source": [
    "plot_graph_and_cluster(G, node_color)"
   ]
  },
  {
   "cell_type": "code",
   "execution_count": null,
   "metadata": {},
   "outputs": [],
   "source": []
  }
 ],
 "metadata": {
  "interpreter": {
   "hash": "9bb8c0a3026eac9dd84cc79a35b9e3c071331ae72dcfa9474de62e4ad1198dbc"
  },
  "kernelspec": {
   "display_name": "Python 3.9.5 64-bit",
   "language": "python",
   "name": "python3"
  },
  "language_info": {
   "codemirror_mode": {
    "name": "ipython",
    "version": 3
   },
   "file_extension": ".py",
   "mimetype": "text/x-python",
   "name": "python",
   "nbconvert_exporter": "python",
   "pygments_lexer": "ipython3",
   "version": "3.9.5"
  },
  "orig_nbformat": 4
 },
 "nbformat": 4,
 "nbformat_minor": 2
}
