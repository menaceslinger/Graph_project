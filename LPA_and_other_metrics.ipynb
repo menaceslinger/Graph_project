{
 "cells": [
  {
   "cell_type": "code",
   "execution_count": 33,
   "id": "51f1063c-64e4-4c0b-82d5-aa511babd41d",
   "metadata": {},
   "outputs": [],
   "source": [
    "import matplotlib.pyplot as plt\n",
    "import networkx as nx\n",
    "from networkx.algorithms import community\n",
    "# pip install netgraph\n",
    "from netgraph import Graph"
   ]
  },
  {
   "cell_type": "code",
   "execution_count": 34,
   "id": "6459e719-1f76-408e-855a-a02c4aa0711a",
   "metadata": {},
   "outputs": [],
   "source": [
    "random_graph=nx.random_partition_graph([3, 5, 4, 7], 0.6, 0.1)"
   ]
  },
  {
   "cell_type": "code",
   "execution_count": 35,
   "id": "960d2a8b-e315-4945-990c-98989c2aefdf",
   "metadata": {},
   "outputs": [],
   "source": [
    "clustering=community.asyn_lpa_communities(random_graph)"
   ]
  },
  {
   "cell_type": "markdown",
   "id": "9d164679-8ffc-47e3-bcac-c5947d553030",
   "metadata": {},
   "source": [
    "Outer loop: Iterate over the communities\n",
    "\n",
    "Inner loop: Iterate over nodes in each community\n",
    "\n",
    "node_to_community dictionary stores which node belongs to which community"
   ]
  },
  {
   "cell_type": "code",
   "execution_count": 26,
   "id": "6453703a-90ff-4850-8fbc-76b84be84224",
   "metadata": {},
   "outputs": [],
   "source": [
    "node_to_community = dict()\n",
    "com_id=0\n",
    "for cluster in clustering:\n",
    "    for node in cluster:\n",
    "        node_to_community[node]=com_id\n",
    "        \n",
    "    com_id+=1"
   ]
  },
  {
   "cell_type": "markdown",
   "id": "c4f57075-77f1-4305-8def-a39b2f5f7b21",
   "metadata": {},
   "source": [
    "This block basically plots the graphs and colors according to community"
   ]
  },
  {
   "cell_type": "code",
   "execution_count": 27,
   "id": "81812a5c-f7cf-4ecd-b054-818e88d218ce",
   "metadata": {},
   "outputs": [
    {
     "data": {
      "image/png": "[encoded data removed]",
      "text/plain": [
       "<Figure size 432x288 with 1 Axes>"
      ]
     },
     "metadata": {},
     "output_type": "display_data"
    }
   ],
   "source": [
    "community_to_color = {\n",
    "    0 : 'tab:blue',\n",
    "    1 : 'tab:orange',\n",
    "    2 : 'tab:green',\n",
    "    3 : 'tab:red',\n",
    "    4 : 'tab:pink'\n",
    "}\n",
    "node_color = {node: community_to_color[community_id] for node, community_id in node_to_community.items()}\n",
    "\n",
    "Graph(random_graph,\n",
    "      node_color=node_color, node_edge_width=0, edge_alpha=0.5,\n",
    "      node_layout='community', node_layout_kwargs=dict(node_to_community=node_to_community),\n",
    "      edge_layout='bundled'\n",
    ")\n",
    "\n",
    "plt.show()"
   ]
  },
  {
   "cell_type": "code",
   "execution_count": 28,
   "id": "29455a29-f9b2-4fd0-a399-6131e90f999d",
   "metadata": {},
   "outputs": [
    {
     "data": {
      "text/plain": [
       "0.23976608187134502"
      ]
     },
     "execution_count": 28,
     "metadata": {},
     "output_type": "execute_result"
    }
   ],
   "source": [
    "nx.density(random_graph)"
   ]
  },
  {
   "cell_type": "markdown",
   "id": "4478db2d-a51e-4130-9270-8ac598fec973",
   "metadata": {},
   "source": [
    "Find average degree\n",
    "\n",
    "\\begin{equation}\n",
    "\\text { average degree }=\\frac{1}{\\text { number of vertices }} \\sum_{v} \\operatorname{deg}(v)\n",
    "\\end{equation}"
   ]
  },
  {
   "cell_type": "code",
   "execution_count": 29,
   "id": "9b87ce19-52a7-44f7-b5fe-268c73254ef0",
   "metadata": {},
   "outputs": [],
   "source": [
    "def average_degree(G):\n",
    "    sum_of_degrees=sum(dict(G.degree).values())\n",
    "    num_of_nodes=G.number_of_nodes()\n",
    "    avg_degree=sum_of_degrees/num_of_nodes\n",
    "    return avg_degree"
   ]
  },
  {
   "cell_type": "code",
   "execution_count": 30,
   "id": "5b4aa8a9-3cd7-4199-b6e2-a04e98925ec3",
   "metadata": {},
   "outputs": [
    {
     "name": "stdout",
     "output_type": "stream",
     "text": [
      "4.315789473684211\n"
     ]
    }
   ],
   "source": [
    "print(average_degree(random_graph))"
   ]
  },
  {
   "cell_type": "code",
   "execution_count": 36,
   "id": "c7726257-6f47-4774-acfe-93425afa069d",
   "metadata": {},
   "outputs": [
    {
     "ename": "KeyError",
     "evalue": "0",
     "output_type": "error",
     "traceback": [
      "\u001b[1;31m---------------------------------------------------------------------------\u001b[0m",
      "\u001b[1;31mKeyError\u001b[0m                                  Traceback (most recent call last)",
      "\u001b[1;32m~\\AppData\\Local\\Temp\\ipykernel_7364\\1371721037.py\u001b[0m in \u001b[0;36m<cell line: 1>\u001b[1;34m()\u001b[0m\n\u001b[1;32m----> 1\u001b[1;33m \u001b[0mcoverage\u001b[0m\u001b[1;33m,\u001b[0m \u001b[0mperformace\u001b[0m \u001b[1;33m=\u001b[0m \u001b[0mcommunity\u001b[0m\u001b[1;33m.\u001b[0m\u001b[0mpartition_quality\u001b[0m\u001b[1;33m(\u001b[0m\u001b[0mrandom_graph\u001b[0m\u001b[1;33m,\u001b[0m \u001b[0mclustering\u001b[0m\u001b[1;33m)\u001b[0m\u001b[1;33m\u001b[0m\u001b[1;33m\u001b[0m\u001b[0m\n\u001b[0m",
      "\u001b[1;32m~\\anaconda3\\envs\\neo\\lib\\site-packages\\networkx\\utils\\decorators.py\u001b[0m in \u001b[0;36margmap_partition_quality_13\u001b[1;34m(G, partition)\u001b[0m\n\u001b[0;32m      2\u001b[0m \u001b[1;32mfrom\u001b[0m \u001b[0mos\u001b[0m\u001b[1;33m.\u001b[0m\u001b[0mpath\u001b[0m \u001b[1;32mimport\u001b[0m \u001b[0msplitext\u001b[0m\u001b[1;33m\u001b[0m\u001b[1;33m\u001b[0m\u001b[0m\n\u001b[0;32m      3\u001b[0m \u001b[1;32mfrom\u001b[0m \u001b[0mcontextlib\u001b[0m \u001b[1;32mimport\u001b[0m \u001b[0mcontextmanager\u001b[0m\u001b[1;33m\u001b[0m\u001b[1;33m\u001b[0m\u001b[0m\n\u001b[1;32m----> 4\u001b[1;33m \u001b[1;32mfrom\u001b[0m \u001b[0mpathlib\u001b[0m \u001b[1;32mimport\u001b[0m \u001b[0mPath\u001b[0m\u001b[1;33m\u001b[0m\u001b[1;33m\u001b[0m\u001b[0m\n\u001b[0m\u001b[0;32m      5\u001b[0m \u001b[1;33m\u001b[0m\u001b[0m\n\u001b[0;32m      6\u001b[0m \u001b[1;32mimport\u001b[0m \u001b[0mnetworkx\u001b[0m \u001b[1;32mas\u001b[0m \u001b[0mnx\u001b[0m\u001b[1;33m\u001b[0m\u001b[1;33m\u001b[0m\u001b[0m\n",
      "\u001b[1;32m~\\anaconda3\\envs\\neo\\lib\\site-packages\\networkx\\algorithms\\community\\quality.py\u001b[0m in \u001b[0;36mpartition_quality\u001b[1;34m(G, partition)\u001b[0m\n\u001b[0;32m    429\u001b[0m     \u001b[1;31m# Iterate over the links to count `intra_community_edges` and `inter_community_non_edges`\u001b[0m\u001b[1;33m\u001b[0m\u001b[1;33m\u001b[0m\u001b[1;33m\u001b[0m\u001b[0m\n\u001b[0;32m    430\u001b[0m     \u001b[1;32mfor\u001b[0m \u001b[0me\u001b[0m \u001b[1;32min\u001b[0m \u001b[0mG\u001b[0m\u001b[1;33m.\u001b[0m\u001b[0medges\u001b[0m\u001b[1;33m(\u001b[0m\u001b[1;33m)\u001b[0m\u001b[1;33m:\u001b[0m\u001b[1;33m\u001b[0m\u001b[1;33m\u001b[0m\u001b[0m\n\u001b[1;32m--> 431\u001b[1;33m         \u001b[1;32mif\u001b[0m \u001b[0mnode_community\u001b[0m\u001b[1;33m[\u001b[0m\u001b[0me\u001b[0m\u001b[1;33m[\u001b[0m\u001b[1;36m0\u001b[0m\u001b[1;33m]\u001b[0m\u001b[1;33m]\u001b[0m \u001b[1;33m==\u001b[0m \u001b[0mnode_community\u001b[0m\u001b[1;33m[\u001b[0m\u001b[0me\u001b[0m\u001b[1;33m[\u001b[0m\u001b[1;36m1\u001b[0m\u001b[1;33m]\u001b[0m\u001b[1;33m]\u001b[0m\u001b[1;33m:\u001b[0m\u001b[1;33m\u001b[0m\u001b[1;33m\u001b[0m\u001b[0m\n\u001b[0m\u001b[0;32m    432\u001b[0m             \u001b[0mintra_community_edges\u001b[0m \u001b[1;33m+=\u001b[0m \u001b[1;36m1\u001b[0m\u001b[1;33m\u001b[0m\u001b[1;33m\u001b[0m\u001b[0m\n\u001b[0;32m    433\u001b[0m         \u001b[1;32melse\u001b[0m\u001b[1;33m:\u001b[0m\u001b[1;33m\u001b[0m\u001b[1;33m\u001b[0m\u001b[0m\n",
      "\u001b[1;31mKeyError\u001b[0m: 0"
     ]
    }
   ],
   "source": [
    "coverage, performace = community.partition_quality(random_graph, clustering)"
   ]
  },
  {
   "cell_type": "code",
   "execution_count": 32,
   "id": "1bc777ed-e12b-496c-98c7-00de8e6feaf7",
   "metadata": {},
   "outputs": [],
   "source": [
    "for block in clustering_copy:\n",
    "    print(random_graph.subgraph(block).size())"
   ]
  },
  {
   "cell_type": "code",
   "execution_count": null,
   "id": "1d6b18d5-8d5a-441d-83e5-3681ff4c0193",
   "metadata": {},
   "outputs": [],
   "source": []
  }
 ],
 "metadata": {
  "kernelspec": {
   "display_name": "Python 3 (ipykernel)",
   "language": "python",
   "name": "python3"
  },
  "language_info": {
   "codemirror_mode": {
    "name": "ipython",
    "version": 3
   },
   "file_extension": ".py",
   "mimetype": "text/x-python",
   "name": "python",
   "nbconvert_exporter": "python",
   "pygments_lexer": "ipython3",
   "version": "3.8.12"
  }
 },
 "nbformat": 4,
 "nbformat_minor": 5
}
